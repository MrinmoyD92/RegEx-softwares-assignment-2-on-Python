{
  "nbformat": 4,
  "nbformat_minor": 0,
  "metadata": {
    "colab": {
      "name": "RegEx Assignment No. 2.ipynb",
      "provenance": []
    },
    "kernelspec": {
      "name": "python3",
      "display_name": "Python 3"
    },
    "language_info": {
      "name": "python"
    }
  },
  "cells": [
    {
      "cell_type": "markdown",
      "metadata": {
        "id": "P7_QNAyVUN4I"
      },
      "source": [
        "#Assignment No. 2\n",
        "\n",
        "1.   Name: Mrinmoy M. Dutta\n",
        "2.   Referral ID: SIRSS2103\n",
        "3.   College: SIES college of Arts, Science and Commerce\n",
        "\n",
        "\n",
        "\n",
        "\n",
        "\n"
      ]
    },
    {
      "cell_type": "code",
      "metadata": {
        "colab": {
          "base_uri": "https://localhost:8080/",
          "height": 52
        },
        "id": "elBzqDasUaE_",
        "outputId": "c77cba0c-70c6-4d78-8a71-f5537bae15d5"
      },
      "source": [
        "str_in = input(\"Please type a sentence of your choice: \")\n",
        "str_out = lambda str1:str1.split(\" \")[0]\n",
        "str_out(str_in)"
      ],
      "execution_count": 24,
      "outputs": [
        {
          "output_type": "stream",
          "text": [
            "Please type a sentence of your choice: Hey there, I am Mrinmoy.\n"
          ],
          "name": "stdout"
        },
        {
          "output_type": "execute_result",
          "data": {
            "application/vnd.google.colaboratory.intrinsic+json": {
              "type": "string"
            },
            "text/plain": [
              "'Hey'"
            ]
          },
          "metadata": {
            "tags": []
          },
          "execution_count": 24
        }
      ]
    },
    {
      "cell_type": "code",
      "metadata": {
        "colab": {
          "base_uri": "https://localhost:8080/",
          "height": 52
        },
        "id": "hkJzj4RvWJmC",
        "outputId": "c044a50a-a87a-426a-e17b-52574ad2019a"
      },
      "source": [
        "def extract_firstword(s):\n",
        "  return s.split(\" \")[0]\n",
        "\n",
        "str_in = input(\"Please type a sentence of your choice: \")\n",
        "extract_firstword(str_in)"
      ],
      "execution_count": 25,
      "outputs": [
        {
          "output_type": "stream",
          "text": [
            "Please type a sentence of your choice: Mrinmoy is my name and I am from Mumbai\n"
          ],
          "name": "stdout"
        },
        {
          "output_type": "execute_result",
          "data": {
            "application/vnd.google.colaboratory.intrinsic+json": {
              "type": "string"
            },
            "text/plain": [
              "'Mrinmoy'"
            ]
          },
          "metadata": {
            "tags": []
          },
          "execution_count": 25
        }
      ]
    },
    {
      "cell_type": "code",
      "metadata": {
        "colab": {
          "base_uri": "https://localhost:8080/"
        },
        "id": "HCNbSol1XCvD",
        "outputId": "98775e3d-d7a0-4c84-9bdd-6f62f659d95c"
      },
      "source": [
        "print(\"Extracting first word from every string from a list of strings\")\n",
        "num = int(input(\"Please enter the number of strings to be checked: \"))\n",
        "list1 = []\n",
        "for i in range(0, num):\n",
        "  string1 = input()\n",
        "  list1.append(string1)\n",
        "\n",
        "map_sentence = list(map(lambda in_str:in_str.split(\" \")[0], list1))\n",
        "map_sentence"
      ],
      "execution_count": 26,
      "outputs": [
        {
          "output_type": "stream",
          "text": [
            "Extracting first word from every string from a list of strings\n",
            "Please enter the number of strings to be checked: 6\n",
            "Neeraj is an athlete\n",
            "Chopra is his last name\n",
            "Won - winning medals in world events is a pride for an athlete\n",
            "Gold, Silver and Bronze are three medals awarded in Olympics\n",
            "In India, there are several states and union territories\n",
            "Olympics is the biggest sporting event\n"
          ],
          "name": "stdout"
        },
        {
          "output_type": "execute_result",
          "data": {
            "text/plain": [
              "['Neeraj', 'Chopra', 'Won', 'Gold,', 'In', 'Olympics']"
            ]
          },
          "metadata": {
            "tags": []
          },
          "execution_count": 26
        }
      ]
    },
    {
      "cell_type": "code",
      "metadata": {
        "colab": {
          "base_uri": "https://localhost:8080/"
        },
        "id": "I8hhu0uqZ5Ix",
        "outputId": "eec9dc89-016a-4f8a-e406-aff7f43923c1"
      },
      "source": [
        "#Using a function to check if a number is prime\n",
        "def is_prime(num):\n",
        "  for i in range(2, num):\n",
        "    if num % i == 0:\n",
        "      return False\n",
        "  else:\n",
        "    return True\n",
        "\n",
        "#Using a function for finding the list of prime numbers until the number num1\n",
        "def prime_list(num1):\n",
        "  list_prime = []\n",
        "  for i in range(2, num1):\n",
        "    if (is_prime(i)):\n",
        "      list_prime.append(i)\n",
        "  return list_prime\n",
        "\n",
        "inp_num = int(input(\"Please type a number of your choice: \"))\n",
        "list1 = prime_list(inp_num)\n",
        "out_num = []\n",
        "for k in list1:\n",
        "  if inp_num%k == 0:\n",
        "    out_num.append(k)\n",
        "\n",
        "print(\"Prime factors of\", inp_num, \"are\", out_num)"
      ],
      "execution_count": 27,
      "outputs": [
        {
          "output_type": "stream",
          "text": [
            "Please type a number of your choice: 33\n",
            "Prime factors of 33 are [3, 11]\n"
          ],
          "name": "stdout"
        }
      ]
    },
    {
      "cell_type": "code",
      "metadata": {
        "colab": {
          "base_uri": "https://localhost:8080/"
        },
        "id": "kxx2JABxclPw",
        "outputId": "9dc8eb4a-94ab-4d3c-f0f2-71a61776942a"
      },
      "source": [
        "l1 = []\n",
        "for i in range(1, 5):\n",
        "  input1 = int(input(f\"Please enter {i}th element: \"))\n",
        "  l1.append(input1)\n",
        "\n",
        "l2 = l1\n",
        "l1.remove(max(l1))\n",
        "sec1 = max(l1)\n",
        "l1.remove(sec1)\n",
        "print(\"Second largest element is\", sec1)"
      ],
      "execution_count": 28,
      "outputs": [
        {
          "output_type": "stream",
          "text": [
            "Please enter 1th element: 25\n",
            "Please enter 2th element: 33\n",
            "Please enter 3th element: 14\n",
            "Please enter 4th element: 56\n",
            "Second largest element is 33\n"
          ],
          "name": "stdout"
        }
      ]
    }
  ]
}